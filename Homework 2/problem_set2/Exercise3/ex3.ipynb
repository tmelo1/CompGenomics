{
 "cells": [
  {
   "cell_type": "code",
   "execution_count": 8,
   "metadata": {
    "collapsed": false
   },
   "outputs": [
    {
     "name": "stdout",
     "output_type": "stream",
     "text": [
      "Explained variance ratio for 10 PCs:\n",
      "[ 0.25057109  0.1420688   0.09699589  0.07514963  0.04743045  0.03678528\n",
      "  0.03076347  0.01996043  0.01696821  0.01489828]\n",
      "\n",
      "\n",
      "Pairwise Pearson values for age with top 10 PCs:\n",
      "[(0.41445102980974746, 0.00026703574595531254), (-0.26135442044730262, 0.025519584055412537), (-0.039000926293581741, 0.74321612056843511), (-0.19429882249093516, 0.099521898711603149), (-0.057062806402672715, 0.63156807382800584), (-0.12338423339905204, 0.29834903967762244), (-0.16201951140911902, 0.17085241252963629), (0.4289236138884116, 0.00015295339344747997), (-0.084411047884735677, 0.47768609287554342), (-0.0045219160752896399, 0.96971270669093113)]\n",
      "\n",
      "\n",
      "Pairwise Pearson values for post-mortem interval with top 10 PCs:\n",
      "[(-0.31373867834289787, 0.0068731461257791771), (0.093903514180504577, 0.42940364539206977), (-0.072077071650397964, 0.54452358064865602), (0.048575580493929529, 0.68319462542963527), (-0.021859501586731781, 0.85435394378469387), (0.081087988584407009, 0.49524999052004859), (0.23765650637408245, 0.042908613961368046), (-0.4002292756906442, 0.00045080530941412017), (-0.031344152665224286, 0.79236022537581985), (-0.11516826632646485, 0.33192297993799413)]\n",
      "\n",
      "\n",
      "Pairwise Pearson values for rna integrity number with top 10 PCs:\n",
      "[(-0.40541699010477522, 0.00037342155767864618), (0.12251277758422317, 0.30180099938201654), (0.23211065493754024, 0.048154558849492032), (-0.08878163893337257, 0.45510279452850433), (0.079134007140730322, 0.50573308267724615), (0.15885902546641487, 0.17946384146384028), (-0.15204402312457896, 0.1990987111302214), (0.23878822101806496, 0.041898410370069812), (0.020387294869210999, 0.8640661814638082), (0.0063667104237677061, 0.95736632544861033)]\n",
      "\n",
      "\n",
      "Pairwise Pearson values for age with phenotype:\n",
      "(0.30593926584474912, 0.0084816540690638084)\n",
      "\n",
      "\n",
      "Pairwise Pearson values for post-mortem interval with phenotype:\n",
      "(-0.16247798734622823, 0.16962879471004097)\n",
      "\n",
      "\n",
      "Pairwise Pearson values for rna integrity number with phenotype:\n",
      "(-0.4594037661503122, 4.3433640851687136e-05)\n",
      "\n",
      "\n"
     ]
    },
    {
     "data": {
      "image/png": "[encoded data removed]",
      "text/plain": [
       "<matplotlib.figure.Figure at 0xd5a3278>"
      ]
     },
     "metadata": {},
     "output_type": "display_data"
    }
   ],
   "source": [
    "import numpy as np\n",
    "from sklearn.decomposition import PCA\n",
    "import matplotlib.pyplot as plt\n",
    "from scipy.stats import pearsonr, ttest_ind\n",
    "\n",
    "#rows are genes\n",
    "#columns are samples\n",
    "\n",
    "samples = []\n",
    "with open('counts.txt') as f:\n",
    "    samples.append(f.readline().strip().split('\\t'))\n",
    "\n",
    "patients = samples[0][1:]\n",
    "data = np.genfromtxt('counts.txt', delimiter='\\t', skip_header = 1)[:,1:]\n",
    "\n",
    "transformed_data = np.log2(1 + data)\n",
    "shape = transformed_data.shape\n",
    "scaled_data = np.zeros((shape))\n",
    "mean = np.mean(transformed_data, axis=1)\n",
    "std = np.std(transformed_data, axis=1)\n",
    "for i in range(0, 17580):\n",
    "    for j in range(0, 73):\n",
    "        scaled_data[i][j] = (transformed_data[i][j] - mean[i]) / std[i]\n",
    "    \n",
    "transposed_scaled_data = scaled_data.transpose()\n",
    "pca_10 = PCA(n_components=10)\n",
    "pca_10.fit(transposed_scaled_data)\n",
    "pca_10_transform = pca_10.transform(transposed_scaled_data)\n",
    "\n",
    "print \"Explained variance ratio for 10 PCs:\"\n",
    "print pca_10.explained_variance_ratio_\n",
    "print \"\\n\"\n",
    "\n",
    "pca_2 = PCA(n_components=2)\n",
    "pca_2.fit(transposed_scaled_data)\n",
    "pca_2_transform = pca_2.transform(transposed_scaled_data)\n",
    "\n",
    "covariants = np.genfromtxt('cov.txt', delimiter='\\t', skip_header=1)[:,1:]\n",
    "post_mortem_interval = covariants[0]\n",
    "rna_integrity_number = covariants[1]\n",
    "age = covariants[2]\n",
    "\n",
    "age_pearsonr_tests = []\n",
    "pmi_pearsonr_tests = []\n",
    "rna_pearsonr_tests = []\n",
    "\n",
    "for i in range(0,10):\n",
    "    age_pearsonr_tests.append(pearsonr(pca_10_transform.transpose()[i], age))\n",
    "    pmi_pearsonr_tests.append(pearsonr(pca_10_transform.transpose()[i], post_mortem_interval))\n",
    "    rna_pearsonr_tests.append(pearsonr(pca_10_transform.transpose()[i], rna_integrity_number))\n",
    "\n",
    "print \"Pairwise Pearson values for age with top 10 PCs:\"\n",
    "print age_pearsonr_tests\n",
    "print \"\\n\"\n",
    "print \"Pairwise Pearson values for post-mortem interval with top 10 PCs:\"\n",
    "print pmi_pearsonr_tests\n",
    "print \"\\n\"\n",
    "print \"Pairwise Pearson values for rna integrity number with top 10 PCs:\"\n",
    "print rna_pearsonr_tests\n",
    "print \"\\n\"\n",
    "\n",
    "phenotype = np.genfromtxt('phen.txt', delimiter='\\t', skip_header=1, usecols=1)\n",
    "age_phenotype_tests = pearsonr(phenotype, age) \n",
    "pmi_phenotype_tests = pearsonr(phenotype, post_mortem_interval)\n",
    "rna_phenotype_tests = pearsonr(phenotype, rna_integrity_number)\n",
    "\n",
    "print \"Pairwise Pearson values for age with phenotype:\"\n",
    "print age_phenotype_tests\n",
    "print \"\\n\"\n",
    "print \"Pairwise Pearson values for post-mortem interval with phenotype:\"\n",
    "print pmi_phenotype_tests\n",
    "print \"\\n\"\n",
    "print \"Pairwise Pearson values for rna integrity number with phenotype:\"\n",
    "print rna_phenotype_tests\n",
    "print \"\\n\"\n",
    "\n",
    "\n",
    "\n",
    "control_data = transposed_scaled_data[44:,:]\n",
    "parkinsons_data = transposed_scaled_data[:44,:]\n",
    "t_test = ttest_ind(control_data, parkinsons_data, axis=0)\n",
    "sig_genes = [x for x in t_test[1] if x < 0.05]\n",
    "p_values = sorted(t_test[1])\n",
    "critical_values = [0.05*((i + 1)/float(17580)) for i in range(0, 17580)]\n",
    "corrected_p_values = []\n",
    "for i in range(0, 17580):\n",
    "    if p_values[i] < critical_values[i]:\n",
    "        corrected_p_values.append(p_values[i])\n",
    "        \n",
    "\n",
    "plt.plot(pca_2_transform[:44,:1], pca_2_transform[:44,1:], \"+\", pca_2_transform[44:,:1], pca_2_transform[44:,1:], \"x\")\n",
    "plt.ylabel(\"PC 2\")\n",
    "plt.xlabel(\"PC 1\")\n",
    "plt.show()\n"
   ]
  },
  {
   "cell_type": "code",
   "execution_count": 2,
   "metadata": {
    "collapsed": false
   },
   "outputs": [
    {
     "data": {
      "text/plain": [
       "6938"
      ]
     },
     "execution_count": 2,
     "metadata": {},
     "output_type": "execute_result"
    }
   ],
   "source": [
    "len(corrected_p_values)"
   ]
  },
  {
   "cell_type": "code",
   "execution_count": 6,
   "metadata": {
    "collapsed": false
   },
   "outputs": [
    {
     "data": {
      "text/plain": [
       "8493"
      ]
     },
     "execution_count": 6,
     "metadata": {},
     "output_type": "execute_result"
    }
   ],
   "source": [
    "len(sig_genes)"
   ]
  },
  {
   "cell_type": "code",
   "execution_count": null,
   "metadata": {
    "collapsed": true
   },
   "outputs": [],
   "source": []
  }
 ],
 "metadata": {
  "kernelspec": {
   "display_name": "Python 2",
   "language": "python",
   "name": "python2"
  },
  "language_info": {
   "codemirror_mode": {
    "name": "ipython",
    "version": 2
   },
   "file_extension": ".py",
   "mimetype": "text/x-python",
   "name": "python",
   "nbconvert_exporter": "python",
   "pygments_lexer": "ipython2",
   "version": "2.7.13"
  }
 },
 "nbformat": 4,
 "nbformat_minor": 2
}
