{
 "cells": [
  {
   "cell_type": "code",
   "execution_count": 41,
   "metadata": {
    "collapsed": false,
    "scrolled": true
   },
   "outputs": [
    {
     "ename": "IOError",
     "evalue": "[Errno 2] No such file or directory: '-f'",
     "output_type": "error",
     "traceback": [
      "\u001b[0;31m---------------------------------------------------------------------------\u001b[0m",
      "\u001b[0;31mIOError\u001b[0m                                   Traceback (most recent call last)",
      "\u001b[0;32m<ipython-input-41-8e245696fc1c>\u001b[0m in \u001b[0;36m<module>\u001b[0;34m()\u001b[0m\n\u001b[1;32m     44\u001b[0m         \u001b[0mi\u001b[0m \u001b[1;33m+=\u001b[0m \u001b[1;36m1\u001b[0m\u001b[1;33m\u001b[0m\u001b[0m\n\u001b[1;32m     45\u001b[0m \u001b[1;33m\u001b[0m\u001b[0m\n\u001b[0;32m---> 46\u001b[0;31m \u001b[1;32mwith\u001b[0m \u001b[0mopen\u001b[0m\u001b[1;33m(\u001b[0m\u001b[0msys\u001b[0m\u001b[1;33m.\u001b[0m\u001b[0margv\u001b[0m\u001b[1;33m[\u001b[0m\u001b[1;36m1\u001b[0m\u001b[1;33m]\u001b[0m\u001b[1;33m)\u001b[0m \u001b[1;32mas\u001b[0m \u001b[0mf\u001b[0m\u001b[1;33m:\u001b[0m\u001b[1;33m\u001b[0m\u001b[0m\n\u001b[0m\u001b[1;32m     47\u001b[0m     \u001b[0mf\u001b[0m\u001b[1;33m.\u001b[0m\u001b[0mreadline\u001b[0m\u001b[1;33m(\u001b[0m\u001b[1;33m)\u001b[0m\u001b[1;33m\u001b[0m\u001b[0m\n\u001b[1;32m     48\u001b[0m     \u001b[1;32mfor\u001b[0m \u001b[0mline\u001b[0m \u001b[1;32min\u001b[0m \u001b[0mf\u001b[0m\u001b[1;33m:\u001b[0m\u001b[1;33m\u001b[0m\u001b[0m\n",
      "\u001b[0;31mIOError\u001b[0m: [Errno 2] No such file or directory: '-f'"
     ]
    }
   ],
   "source": [
    "import numpy as np\n",
    "import sys\n",
    "from sklearn.svm import SVC\n",
    "from itertools import product\n",
    "from sklearn.model_selection import cross_val_score\n",
    "from sklearn.metrics import confusion_matrix\n",
    "import json\n",
    "\n",
    "#train data = argv[1]\n",
    "#train labels = argv[2]\n",
    "#test data = argv[3]\n",
    "#test labels = argv[4]\n",
    "\n",
    "bases = ['A', 'C', 'G', 'T']\n",
    "kmer_list_2 = sorted([''.join(p) for p in product(bases, repeat=2)])\n",
    "kmer_list_3 = sorted([''.join(p) for p in product(bases, repeat=3)])\n",
    "kmer_list_4 = sorted([''.join(p) for p in product(bases, repeat=4)])\n",
    "train_2mers = []\n",
    "train_3mers = []\n",
    "train_4mers = []\n",
    "test_2mers = []\n",
    "test_3mers = []\n",
    "test_4mers = []\n",
    "train_data = []\n",
    "test_data = []\n",
    "train_Y = []\n",
    "test_Y = []\n",
    "train_Y_data = []\n",
    "test_Y_data = []\n",
    "\n",
    "kmers = kmer_list_2 + kmer_list_3 + kmer_list_4\n",
    "\n",
    "fold_list = np.zeros((2175, 1))\n",
    "\n",
    "train_X = np.zeros((2175, 336))\n",
    "test_X = np.zeros((1000, 336))\n",
    "\n",
    "i = 0\n",
    "with open('Kfolds.txt') as f:\n",
    "    f.readline()\n",
    "    for line in f:\n",
    "        stripped_line = line.strip().split(' ')\n",
    "        fold_list[i][0] = stripped_line[1]\n",
    "        i += 1       \n",
    "        \n",
    "with open(sys.argv[1]) as f:\n",
    "    f.readline()\n",
    "    for line in f:\n",
    "        train_data.append(line.strip())\n",
    "\n",
    "for sequence in train_data:\n",
    "    train_2mer_list = {kmer: 0 for kmer in kmer_list_2}\n",
    "    train_3mer_list = {kmer: 0 for kmer in kmer_list_3}\n",
    "    train_4mer_list = {kmer: 0 for kmer in kmer_list_4}\n",
    "    for i in range(0, 59):\n",
    "        train_2mer_list[sequence[i:i+2]] += 1\n",
    "        if i <= 57:\n",
    "            train_3mer_list[sequence[i:i+3]] += 1\n",
    "        if i <= 56:\n",
    "            train_4mer_list[sequence[i:i+4]] += 1\n",
    "            \n",
    "    train_2mers.append(train_2mer_list)\n",
    "    train_3mers.append(train_3mer_list)\n",
    "    train_4mers.append(train_4mer_list)\n",
    "\n",
    "\n",
    "with open('train_kmer_counts.txt', 'w') as f:\n",
    "    for d in train_2mers + train_3mers + train_4mers:\n",
    "        f.write(str(d))\n",
    "        f.write(\"\\n\")\n",
    "\n",
    "for i in range(0, 2175):\n",
    "    values = []\n",
    "    for k in kmers:\n",
    "        if len(k) == 2:\n",
    "            values.append(train_2mers[i][k])\n",
    "        elif len(k) == 3:\n",
    "            values.append(train_3mers[i][k])\n",
    "        else:\n",
    "            values.append(train_4mers[i][k])\n",
    "    train_X[i] = values\n",
    "\n",
    "\n",
    "mean = np.mean(train_X, axis=0)\n",
    "std = np.std(train_X, axis=0)\n",
    "\n",
    "for i in range(0, 2175):\n",
    "    for j in range(0, 336):\n",
    "        train_X[i][j] = (train_X[i][j] - mean[j]) / std[j]\n",
    "\n",
    "with open(sys.argv[2]) as f:\n",
    "    f.readline()\n",
    "    for line in f:\n",
    "        train_Y.append(line.strip().split(' '))\n",
    "        \n",
    "for i in range(0, 2175):\n",
    "    train_Y_data.append(train_Y[i][2])\n",
    "\n",
    "   \n",
    "with open(sys.argv[3]) as f:\n",
    "    f.readline()\n",
    "    for line in f:\n",
    "        test_data.append(line.strip())\n",
    "\n",
    "for sequence in test_data:\n",
    "    test_2mer_list = {kmer: 0 for kmer in kmer_list_2}\n",
    "    test_3mer_list = {kmer: 0 for kmer in kmer_list_3}\n",
    "    test_4mer_list = {kmer: 0 for kmer in kmer_list_4}\n",
    "    for i in range(0, 59):\n",
    "        test_2mer_list[sequence[i:i+2]] += 1\n",
    "        if i <= 57:\n",
    "            test_3mer_list[sequence[i:i+3]] += 1\n",
    "        if i <= 56:\n",
    "            test_4mer_list[sequence[i:i+4]] += 1\n",
    "            \n",
    "    test_2mers.append(test_2mer_list)\n",
    "    test_3mers.append(test_3mer_list)\n",
    "    test_4mers.append(test_4mer_list)\n",
    "\n",
    "with open('test_kmer_counts.txt', 'w') as f:\n",
    "    for d in test_2mers + test_3mers + test_4mers:\n",
    "        f.write(str(d))\n",
    "        f.write(\"\\n\")\n",
    "    \n",
    "    \n",
    "for i in range(0, 1000):\n",
    "    values = []\n",
    "    for k in kmers:\n",
    "        if len(k) == 2:\n",
    "            values.append(test_2mers[i][k])\n",
    "        elif len(k) == 3:\n",
    "            values.append(test_3mers[i][k])\n",
    "        else:\n",
    "            values.append(test_4mers[i][k])\n",
    "    test_X[i] = values\n",
    "\n",
    "test_mean = np.mean(test_X, axis=0)\n",
    "test_std = np.std(test_X, axis=0)\n",
    "for i in range(0, 1000):\n",
    "    for j in range(0, 336):\n",
    "        test_X[i][j] = (test_X[i][j] - test_mean[j]) / test_std[j]\n",
    "        \n",
    "with open(sys.argv[4]) as f:\n",
    "    f.readline()\n",
    "    for line in f:\n",
    "        test_Y.append(line.strip().split(' '))\n",
    "        \n",
    "for i in range(0, 1000):\n",
    "    test_Y_data.append(test_Y[i][2])\n",
    "\n",
    "        \n",
    "linear_svc = SVC(kernel='linear')\n",
    "deg_3_svc = SVC(kernel='poly', degree=3)\n",
    "deg_4_svc = SVC(kernel='poly', degree=4)\n",
    "deg_6_svc = SVC(kernel='poly', degree=6)\n",
    "gaussian_svc = SVC()\n",
    "\n",
    "linear_svc.fit(train_X, train_Y_data)\n",
    "deg_3_svc.fit(train_X, train_Y_data)\n",
    "deg_4_svc.fit(train_X, train_Y_data)\n",
    "deg_6_svc.fit(train_X, train_Y_data)\n",
    "gaussian_svc.fit(train_X, train_Y_data)\n",
    "\n",
    "\n",
    "linear_scores = cross_val_score(linear_svc, train_X, train_Y_data, groups=fold_list, cv=5)\n",
    "deg_3_scores = cross_val_score(deg_3_svc, train_X, train_Y_data, groups=fold_list, cv=5)\n",
    "deg_4_scores = cross_val_score(deg_4_svc, train_X, train_Y_data, groups=fold_list, cv=5)\n",
    "deg_6_scores = cross_val_score(deg_6_svc, train_X, train_Y_data, groups=fold_list, cv=5)\n",
    "gaussian_scores = cross_val_score(gaussian_svc, train_X, train_Y_data, groups=fold_list, cv=5)\n",
    "\n",
    "\n",
    "predict_Y = gaussian_svc.predict(test_X)\n",
    "accuracy = gaussian_svc.score(test_X, test_Y_data)\n",
    "con_matrix = confusion_matrix(test_Y_data, predict_Y)\n",
    "\n",
    "precision = float(con_matrix[0,0]) / (con_matrix[0,0] + con_matrix[1, 0])\n",
    "\n",
    "recall = float(con_matrix[0,0]) / (con_matrix[0,0] + con_matrix[0,1])\n",
    "\n"
   ]
  },
  {
   "cell_type": "code",
   "execution_count": 3,
   "metadata": {
    "collapsed": false
   },
   "outputs": [
    {
     "data": {
      "text/plain": [
       "array([[386, 142],\n",
       "       [122, 350]])"
      ]
     },
     "execution_count": 3,
     "metadata": {},
     "output_type": "execute_result"
    }
   ],
   "source": [
    "con_matrix"
   ]
  },
  {
   "cell_type": "code",
   "execution_count": null,
   "metadata": {
    "collapsed": false
   },
   "outputs": [],
   "source": []
  },
  {
   "cell_type": "code",
   "execution_count": null,
   "metadata": {
    "collapsed": false
   },
   "outputs": [],
   "source": []
  },
  {
   "cell_type": "code",
   "execution_count": null,
   "metadata": {
    "collapsed": false
   },
   "outputs": [],
   "source": []
  },
  {
   "cell_type": "code",
   "execution_count": null,
   "metadata": {
    "collapsed": false
   },
   "outputs": [],
   "source": []
  },
  {
   "cell_type": "code",
   "execution_count": null,
   "metadata": {
    "collapsed": true
   },
   "outputs": [],
   "source": []
  }
 ],
 "metadata": {
  "kernelspec": {
   "display_name": "Python 2",
   "language": "python",
   "name": "python2"
  },
  "language_info": {
   "codemirror_mode": {
    "name": "ipython",
    "version": 2
   },
   "file_extension": ".py",
   "mimetype": "text/x-python",
   "name": "python",
   "nbconvert_exporter": "python",
   "pygments_lexer": "ipython2",
   "version": "2.7.13"
  }
 },
 "nbformat": 4,
 "nbformat_minor": 2
}
