{
 "cells": [
  {
   "cell_type": "code",
   "execution_count": 91,
   "metadata": {
    "collapsed": false
   },
   "outputs": [],
   "source": [
    "import numpy as np\n",
    "from scipy.stats import pearsonr\n",
    "from sklearn.covariance import GraphLasso\n",
    "\n",
    "#threshold 1 = 0.25\n",
    "#threshold 2 = 0.3\n",
    "#threshold 3 = 0.\n",
    "\n",
    "data = np.genfromtxt('expr_ceph_utah_1000.txt', delimiter='\\t', skip_header=1)[:,1:]\n",
    "transposed_data = np.transpose(data)\n",
    "\n",
    "\n",
    "sim_matrix = np.zeros((1000, 1000))\n",
    "\n",
    "for i in range(0,1000):\n",
    "    for j in range(0,1000):\n",
    "        sim_matrix[i][j] = np.absolute(pearsonr(transposed_data[i], transposed_data[j])[0])\n",
    "        \n",
    "expression_probes_5 = sim_matrix[:5,:5]\n",
    "rng = np.arange(0.25, 0.85, 0.05)\n",
    "networks = {x: np.zeros((1000,1000)) for x in rng}\n",
    "for key in networks:\n",
    "    for i in range(0,1000):\n",
    "        for j in range(0,1000):\n",
    "            if sim_matrix[i][j] > key:\n",
    "                networks[key][i][j] = 1\n",
    "                \n",
    "degree = np.zeros((10000, 12))\n",
    "j = 0\n",
    "for key in networks:\n",
    "    for i in range(0,1000):\n",
    "        degree[i][j] = np.sum(networks[key], axis=1)[i]\n",
    "    j += 1\n",
    "\n",
    "    \n"
   ]
  },
  {
   "cell_type": "code",
   "execution_count": null,
   "metadata": {
    "collapsed": false
   },
   "outputs": [],
   "source": []
  },
  {
   "cell_type": "code",
   "execution_count": null,
   "metadata": {
    "collapsed": false
   },
   "outputs": [],
   "source": []
  },
  {
   "cell_type": "code",
   "execution_count": null,
   "metadata": {
    "collapsed": false
   },
   "outputs": [],
   "source": []
  },
  {
   "cell_type": "raw",
   "metadata": {},
   "source": []
  },
  {
   "cell_type": "code",
   "execution_count": null,
   "metadata": {
    "collapsed": false
   },
   "outputs": [],
   "source": []
  },
  {
   "cell_type": "code",
   "execution_count": null,
   "metadata": {
    "collapsed": true
   },
   "outputs": [],
   "source": []
  }
 ],
 "metadata": {
  "kernelspec": {
   "display_name": "Python 2",
   "language": "python",
   "name": "python2"
  },
  "language_info": {
   "codemirror_mode": {
    "name": "ipython",
    "version": 2
   },
   "file_extension": ".py",
   "mimetype": "text/x-python",
   "name": "python",
   "nbconvert_exporter": "python",
   "pygments_lexer": "ipython2",
   "version": "2.7.13"
  }
 },
 "nbformat": 4,
 "nbformat_minor": 2
}
