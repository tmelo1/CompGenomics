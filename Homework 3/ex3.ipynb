{
 "cells": [
  {
   "cell_type": "code",
   "execution_count": 4,
   "metadata": {
    "collapsed": true
   },
   "outputs": [],
   "source": [
    "import numpy as np\n",
    "from __future__ import division\n",
    "from scipy.stats import multivariate_normal\n",
    "\n",
    "#data = n x d\n",
    "#k = # clusters\n",
    "#max_iter = max iterations\n",
    "#conv_tol = tolerance for convergence\n",
    "#pi = k x 1\n",
    "#mean = d x k \n",
    "#z = n x k probability matrix\n",
    "#assign = n x 1 matrix \n",
    "\n",
    "\n",
    "def myGMM(data, k, max_iter, conv_tol):\n",
    "    mean = np.zeros((data.shape[1], k))\n",
    "    mixing_coeffs = np.full(k, 1/k)\n",
    "    cov_matrices = np.zeros((data.shape[1], data.shape[1]))\n",
    "    assign = np.zeros(data.shape[0])\n",
    "    for i in range(0, k):\n",
    "        mean[i] = np.mean(data[i], axis=1)\n",
    "        cov_matrices[i] = np.identity(k)\n",
    "        \n",
    "    init_likelihood = np.sum(np.log2(np.sum(np.dot(mixing_coeffs,\n",
    "        multivariate_normal.pdf(data, mean=mean, cov=cov_matrices)))))\n",
    "    \n",
    "    gamma = np.zeros(k)\n",
    "    \n",
    "    likelihoods = np.zeros\n",
    "    for n in range(0, max_iter):\n",
    "        for i in range(0, k):\n",
    "            gamma[i] = (np.dot(mixing_coeffs[i] * multivariate_normal.pdf(data, mean=mean[i], \n",
    "                cov=cov_matrices[i])))/(np.sum(np.dot(mixing_coeffs, \n",
    "                multivariate_normal.pdf(data, mean=mean, cov=cov_matrices))))\n",
    "    \n",
    "        nk = np.sum(gamma)\n",
    "    \n",
    "        for i in range(0, k):\n",
    "            mean[i] = (1/nk) * np.sum(gamma)\n",
    "            cov_matrices[i] = (1/nk) * np.sum(np.dot(np.dot(gamma, (x - mean)), np.transpose((x - mean))))\n",
    "            mixing_coeffs[i] = nk / data.shape[0]\n",
    "            \n",
    "        log_likelihood = np.sum(np.log2(np.sum(np.dot(mixing_coeffs,\n",
    "            multivariate_normal.pdf(data, mean=mean, cov=cov_matrices)))))\n",
    "        \n",
    "        change = log_likelihood - init_likelihood\n",
    "        init_likelihood = log_likelihood\n",
    "        "
   ]
  },
  {
   "cell_type": "code",
   "execution_count": null,
   "metadata": {
    "collapsed": true
   },
   "outputs": [],
   "source": []
  }
 ],
 "metadata": {
  "kernelspec": {
   "display_name": "Python 2",
   "language": "python",
   "name": "python2"
  },
  "language_info": {
   "codemirror_mode": {
    "name": "ipython",
    "version": 2
   },
   "file_extension": ".py",
   "mimetype": "text/x-python",
   "name": "python",
   "nbconvert_exporter": "python",
   "pygments_lexer": "ipython2",
   "version": "2.7.13"
  }
 },
 "nbformat": 4,
 "nbformat_minor": 2
}
