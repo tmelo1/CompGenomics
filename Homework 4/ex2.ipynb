{
 "cells": [
  {
   "cell_type": "code",
   "execution_count": 35,
   "metadata": {
    "collapsed": true
   },
   "outputs": [],
   "source": [
    "import numpy as np\n",
    "\n",
    "class HMM(object):\n",
    "    def __init__(self, transition, initial, emission, states, alpha):\n",
    "        self._A = transition\n",
    "        self._I = initial\n",
    "        self._E = emission\n",
    "        self.Q = states\n",
    "        self.sig = alpha\n",
    "        self.smap = m\n",
    "\n",
    "    def viterbi(self, emissions):\n",
    "        emissions = map(self.smap.get)\n",
    "        rows, cols = len(self.Q), len(emissions)\n",
    "        probs = np.zeros(shape=(rows,cols), dtype=float)\n",
    "        traceback = np.zeros(shape=(rows,cols), dtype=int)\n",
    "        for i in xrange(0, rows):\n",
    "            probs[i, 0] = self.E[i, x[0]] * self.I[i]\n",
    "        for j in xrange(1, cols):\n",
    "            for i in xrange(0, rows):\n",
    "                em_p = self.E[i, x[j]]\n",
    "                mx, mxi = probs[0, j-1] * self.A[0, i] * em_p, 0\n",
    "                for i2 in xrange(1, rows):\n",
    "                    pr = probs[i2, j-1] * self.A[i2, i] * em_p\n",
    "                    if pr > mx:\n",
    "                        mx, mxi = pr, i2\n",
    "                probs[i, j], traceback[i, j] = mx, mxi\n",
    "        omx, omxi = probs[0, cols-1], 0\n",
    "        for i in xrange(1, cols):\n",
    "            if probs[i, cols-1] > omx:\n",
    "                omx, omxi = probs[i, cols-1], i\n",
    "        i, p = omxi, [omxi]\n",
    "        for j in xrange(cols-1, 0, -1):\n",
    "            i = traceback[i, j]\n",
    "            p.append(i)\n",
    "        p = ''.join(map(lambda emissisions: self.Q[emissions], p[::-1]))\n",
    "        return omx, p"
   ]
  },
  {
   "cell_type": "code",
   "execution_count": 36,
   "metadata": {
    "collapsed": false
   },
   "outputs": [
    {
     "ename": "AttributeError",
     "evalue": "'tuple' object has no attribute 'get'",
     "output_type": "error",
     "traceback": [
      "\u001b[0;31m---------------------------------------------------------------------------\u001b[0m",
      "\u001b[0;31mAttributeError\u001b[0m                            Traceback (most recent call last)",
      "\u001b[0;32m<ipython-input-36-64753432e877>\u001b[0m in \u001b[0;36m<module>\u001b[0;34m()\u001b[0m\n\u001b[1;32m      8\u001b[0m \u001b[0mma\u001b[0m \u001b[1;33m=\u001b[0m \u001b[1;33m(\u001b[0m\u001b[1;33m{\u001b[0m\u001b[1;34m'IA'\u001b[0m\u001b[1;33m:\u001b[0m \u001b[1;36m0.1\u001b[0m\u001b[1;33m,\u001b[0m \u001b[1;34m'IC'\u001b[0m\u001b[1;33m:\u001b[0m \u001b[1;36m0.4\u001b[0m\u001b[1;33m,\u001b[0m \u001b[1;34m'IG'\u001b[0m\u001b[1;33m:\u001b[0m\u001b[1;36m0.4\u001b[0m\u001b[1;33m,\u001b[0m \u001b[1;34m'IT'\u001b[0m\u001b[1;33m:\u001b[0m\u001b[1;36m0.1\u001b[0m\u001b[1;33m}\u001b[0m\u001b[1;33m,\u001b[0m \u001b[1;33m{\u001b[0m\u001b[1;34m'NA'\u001b[0m\u001b[1;33m:\u001b[0m\u001b[1;36m0.3\u001b[0m\u001b[1;33m,\u001b[0m \u001b[1;34m'NC'\u001b[0m\u001b[1;33m:\u001b[0m \u001b[1;36m0.2\u001b[0m\u001b[1;33m,\u001b[0m \u001b[1;34m'NG'\u001b[0m\u001b[1;33m:\u001b[0m\u001b[1;36m0.2\u001b[0m\u001b[1;33m,\u001b[0m \u001b[1;34m'NT'\u001b[0m\u001b[1;33m:\u001b[0m\u001b[1;36m0.3\u001b[0m\u001b[1;33m}\u001b[0m\u001b[1;33m,\u001b[0m \u001b[1;33m{\u001b[0m\u001b[1;34m'I'\u001b[0m\u001b[1;33m:\u001b[0m \u001b[1;36m0.4\u001b[0m\u001b[1;33m,\u001b[0m \u001b[1;34m'N'\u001b[0m\u001b[1;33m:\u001b[0m\u001b[1;36m0.6\u001b[0m\u001b[1;33m}\u001b[0m\u001b[1;33m)\u001b[0m\u001b[1;33m\u001b[0m\u001b[0m\n\u001b[1;32m      9\u001b[0m \u001b[0mhmm\u001b[0m \u001b[1;33m=\u001b[0m \u001b[0mHMM\u001b[0m\u001b[1;33m(\u001b[0m\u001b[0mtrans_p\u001b[0m\u001b[1;33m,\u001b[0m \u001b[0mstart_p\u001b[0m\u001b[1;33m,\u001b[0m \u001b[0memission_p\u001b[0m\u001b[1;33m,\u001b[0m \u001b[0mstates\u001b[0m\u001b[1;33m,\u001b[0m \u001b[0malphabet\u001b[0m\u001b[1;33m,\u001b[0m \u001b[0mma\u001b[0m\u001b[1;33m)\u001b[0m\u001b[1;33m\u001b[0m\u001b[0m\n\u001b[0;32m---> 10\u001b[0;31m \u001b[0mhmm\u001b[0m\u001b[1;33m.\u001b[0m\u001b[0mviterbi\u001b[0m\u001b[1;33m(\u001b[0m\u001b[0msequence\u001b[0m\u001b[1;33m)\u001b[0m\u001b[1;33m\u001b[0m\u001b[0m\n\u001b[0m",
      "\u001b[0;32m<ipython-input-35-4cb66c784316>\u001b[0m in \u001b[0;36mviterbi\u001b[0;34m(self, emissions)\u001b[0m\n\u001b[1;32m     11\u001b[0m \u001b[1;33m\u001b[0m\u001b[0m\n\u001b[1;32m     12\u001b[0m     \u001b[1;32mdef\u001b[0m \u001b[0mviterbi\u001b[0m\u001b[1;33m(\u001b[0m\u001b[0mself\u001b[0m\u001b[1;33m,\u001b[0m \u001b[0memissions\u001b[0m\u001b[1;33m)\u001b[0m\u001b[1;33m:\u001b[0m\u001b[1;33m\u001b[0m\u001b[0m\n\u001b[0;32m---> 13\u001b[0;31m         \u001b[0memissions\u001b[0m \u001b[1;33m=\u001b[0m \u001b[0mmap\u001b[0m\u001b[1;33m(\u001b[0m\u001b[0mself\u001b[0m\u001b[1;33m.\u001b[0m\u001b[0msmap\u001b[0m\u001b[1;33m.\u001b[0m\u001b[0mget\u001b[0m\u001b[1;33m)\u001b[0m\u001b[1;33m\u001b[0m\u001b[0m\n\u001b[0m\u001b[1;32m     14\u001b[0m         \u001b[0mrows\u001b[0m\u001b[1;33m,\u001b[0m \u001b[0mcols\u001b[0m \u001b[1;33m=\u001b[0m \u001b[0mlen\u001b[0m\u001b[1;33m(\u001b[0m\u001b[0mself\u001b[0m\u001b[1;33m.\u001b[0m\u001b[0mQ\u001b[0m\u001b[1;33m)\u001b[0m\u001b[1;33m,\u001b[0m \u001b[0mlen\u001b[0m\u001b[1;33m(\u001b[0m\u001b[0memissions\u001b[0m\u001b[1;33m)\u001b[0m\u001b[1;33m\u001b[0m\u001b[0m\n\u001b[1;32m     15\u001b[0m         \u001b[0mprobs\u001b[0m \u001b[1;33m=\u001b[0m \u001b[0mnp\u001b[0m\u001b[1;33m.\u001b[0m\u001b[0mzeros\u001b[0m\u001b[1;33m(\u001b[0m\u001b[0mshape\u001b[0m\u001b[1;33m=\u001b[0m\u001b[1;33m(\u001b[0m\u001b[0mrows\u001b[0m\u001b[1;33m,\u001b[0m\u001b[0mcols\u001b[0m\u001b[1;33m)\u001b[0m\u001b[1;33m,\u001b[0m \u001b[0mdtype\u001b[0m\u001b[1;33m=\u001b[0m\u001b[0mfloat\u001b[0m\u001b[1;33m)\u001b[0m\u001b[1;33m\u001b[0m\u001b[0m\n",
      "\u001b[0;31mAttributeError\u001b[0m: 'tuple' object has no attribute 'get'"
     ]
    }
   ],
   "source": [
    "sequence = 'TTACGCGCGCGCGATATTT'\n",
    "\n",
    "states = ('I', 'N')\n",
    "alphabet = ('A', 'C', 'T', 'G')\n",
    "start_p = np.array([0.4, 0.6])\n",
    "trans_p = np.array([[0.8, 0.2], [0.3, 0.7]])\n",
    "emission_p = np.array([[0.1, 0.4, 0.4, 0.1],[0.3, 0.2, 0.2, 0.3]])\n",
    "hmm.viterbi(sequence)"
   ]
  },
  {
   "cell_type": "markdown",
   "metadata": {
    "collapsed": true
   },
   "source": [
    "model"
   ]
  },
  {
   "cell_type": "code",
   "execution_count": null,
   "metadata": {
    "collapsed": false
   },
   "outputs": [],
   "source": []
  },
  {
   "cell_type": "code",
   "execution_count": null,
   "metadata": {
    "collapsed": false
   },
   "outputs": [],
   "source": []
  },
  {
   "cell_type": "code",
   "execution_count": null,
   "metadata": {
    "collapsed": true
   },
   "outputs": [],
   "source": []
  }
 ],
 "metadata": {
  "kernelspec": {
   "display_name": "Python 2",
   "language": "python",
   "name": "python2"
  },
  "language_info": {
   "codemirror_mode": {
    "name": "ipython",
    "version": 2
   },
   "file_extension": ".py",
   "mimetype": "text/x-python",
   "name": "python",
   "nbconvert_exporter": "python",
   "pygments_lexer": "ipython2",
   "version": "2.7.13"
  }
 },
 "nbformat": 4,
 "nbformat_minor": 2
}
