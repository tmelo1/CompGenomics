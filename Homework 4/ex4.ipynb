{
 "cells": [
  {
   "cell_type": "code",
   "execution_count": 151,
   "metadata": {
    "collapsed": false
   },
   "outputs": [
    {
     "name": "stdout",
     "output_type": "stream",
     "text": [
      "% error for 1 layer RELU w/ 200 iterations: 72\n",
      "% error for 2 layer RELU w/ 200 iterations: 68\n",
      "% error for 16 layer RELU w/ 200 iterations: 69\n",
      "% error for 32 layer RELU w/ 200 iterations: 69\n"
     ]
    },
    {
     "name": "stderr",
     "output_type": "stream",
     "text": [
      "C:\\Users\\tmelo1\\Anaconda2\\lib\\site-packages\\sklearn\\neural_network\\multilayer_perceptron.py:563: ConvergenceWarning: Stochastic Optimizer: Maximum iterations reached and the optimization hasn't converged yet.\n",
      "  % (), ConvergenceWarning)\n"
     ]
    },
    {
     "name": "stdout",
     "output_type": "stream",
     "text": [
      "% error for 1 layer logistic activation  w/ 200 iterations: 59\n",
      "% error for 2 layer logistic activation  w/ 200 iterations: 59\n",
      "% error for 16 layer logistic activation  w/ 200 iterations: 56\n",
      "% error for 32 layer logistic activation  w/ 200 iterations: 50\n"
     ]
    }
   ],
   "source": [
    "import numpy as np\n",
    "from sklearn import neural_network\n",
    "from sklearn import metrics\n",
    "import matplotlib.pyplot as plt\n",
    "import sys\n",
    "import itertools\n",
    "\n",
    "exp_train = np.genfromtxt('train_expression.csv', delimiter=',', skip_header=1, unpack=True)[1:,:].astype(float)\n",
    "exp_test = np.genfromtxt('test_expression.csv', delimiter=',', skip_header=1, unpack=True)[1:,:].astype(float)\n",
    "train_phenotype = (np.genfromtxt('train_phen.csv', delimiter=',', skip_header=1)[:,1:]).astype(int).ravel()\n",
    "test_phenotype = (np.genfromtxt('test_phen.csv', delimiter=',', skip_header=1)[:,1:]).astype(int).ravel()\n",
    "    \n",
    "\n",
    "exp_train_mean = np.mean(exp_train, axis=1)\n",
    "exp_train_std = np.std(exp_train, axis=1)\n",
    "exp_test_mean = np.mean(exp_test, axis=1)\n",
    "exp_test_std = np.std(exp_train, axis=1)\n",
    "\n",
    "\n",
    "for i in range(exp_train.shape[0]):\n",
    "    for j in range(exp_train.shape[1]):\n",
    "        exp_train[i][j] = (exp_train[i][j] - exp_train_mean[i]) / exp_train_std[i]\n",
    "        \n",
    "for i in range(exp_test.shape[0]):\n",
    "    for j in range(exp_test.shape[1]):\n",
    "        exp_test[i][j] = (exp_test[i][j] - exp_test_mean[i]) / exp_test_std[i]\n",
    "        \n",
    "l_1 = [50 for i in range(1)]\n",
    "l_2 = [50 for i in range(2)]\n",
    "l_16 = np.full(16, 50, dtype=int)\n",
    "l_32 = np.full(32, 50, dtype=int)\n",
    "\n",
    "model_1r_layer = neural_network.MLPClassifier(hidden_layer_sizes=l_1, activation='relu', max_iter=200, random_state=1)\n",
    "model_1_relu = model_1r_layer.fit(exp_train, train_phenotype)\n",
    "predict_phen_1_relu = model_1_relu.predict(exp_test)\n",
    "error_1_relu = np.abs(predict_phen_1_relu - test_phenotype).sum() / test_phenotype.shape[0]\n",
    "print('% error for 1 layer RELU w/ 200 iterations: ' + str(error_1_relu))\n",
    "\n",
    "model_2r_layer = neural_network.MLPClassifier(hidden_layer_sizes=l_2, activation='relu', max_iter=200, random_state=1)\n",
    "model_2_relu = model_2r_layer.fit(exp_train, train_phenotype)\n",
    "predict_phen_2_relu = model_2_relu.predict(exp_test)\n",
    "error_2_relu = np.abs(predict_phen_2_relu - test_phenotype).sum() / test_phenotype.shape[0]\n",
    "print('% error for 2 layer RELU w/ 200 iterations: ' + str(error_2_relu))\n",
    "\n",
    "model_16r_layer = neural_network.MLPClassifier(hidden_layer_sizes=l_16, activation='relu', max_iter=200, random_state=1)\n",
    "model_16_relu = model_16r_layer.fit(exp_train, train_phenotype)\n",
    "predict_phen_16_relu = model_16_relu.predict(exp_test)\n",
    "error_16_relu = np.sum(np.abs(predict_phen_16_relu - test_phenotype)) / test_phenotype.shape[0]\n",
    "print('% error for 16 layer RELU w/ 200 iterations: ' + str(error_16_relu))\n",
    "\n",
    "model_32r_layer = neural_network.MLPClassifier(hidden_layer_sizes=l_32, activation='relu', max_iter=200, random_state=1)\n",
    "model_32_relu = model_32r_layer.fit(exp_train, train_phenotype)\n",
    "predict_phen_32_relu = model_32_relu.predict(exp_test)\n",
    "error_32_relu = np.sum(np.abs(predict_phen_32_relu - test_phenotype)) / test_phenotype.shape[0]\n",
    "print('% error for 32 layer RELU w/ 200 iterations: ' + str(error_32_relu))\n",
    "\n",
    "model_1l_layer = neural_network.MLPClassifier(hidden_layer_sizes=l_1, activation='logistic', max_iter=200, random_state=1)\n",
    "model_1_logistic = model_1l_layer.fit(exp_train, train_phenotype)\n",
    "predict_phen_1_logistic = model_1_logistic.predict(exp_test)\n",
    "error_1_logistic = np.abs(predict_phen_1_logistic - test_phenotype).sum()/test_phenotype.shape[0]\n",
    "print('% error for 1 layer logistic activation  w/ 200 iterations: ' + str(error_1_logistic))\n",
    "\n",
    "model_2l_layer = neural_network.MLPClassifier(hidden_layer_sizes=l_2, activation='logistic', max_iter=200, random_state=1)\n",
    "model_2_logistic = model_2l_layer.fit(exp_train, train_phenotype)\n",
    "predict_phen_2_logistic = model_2_logistic.predict(exp_test)\n",
    "error_2_logistic = np.abs(predict_phen_2_logistic - test_phenotype).sum()/test_phenotype.shape[0]\n",
    "print('% error for 2 layer logistic activation  w/ 200 iterations: ' + str(error_2_logistic))\n",
    "\n",
    "model_16l_layer = neural_network.MLPClassifier(hidden_layer_sizes=l_16, activation='logistic', max_iter=200, random_state=1)\n",
    "model_16_logistic = model_16l_layer.fit(exp_train, train_phenotype)\n",
    "predict_phen_16_logistic = model_16_logistic.predict(exp_test)\n",
    "error_16_logistic = np.abs(predict_phen_16_logistic - test_phenotype).sum()/test_phenotype.shape[0]\n",
    "print('% error for 16 layer logistic activation  w/ 200 iterations: ' + str(error_16_logistic))\n",
    "\n",
    "model_32l_layer = neural_network.MLPClassifier(hidden_layer_sizes=l_32, activation='logistic', max_iter=200, random_state=1)\n",
    "model_32_logistic = model_32l_layer.fit(exp_train, train_phenotype)\n",
    "predict_phen_32_logistic = model_32_logistic.predict(exp_test)\n",
    "error_32_logistic = np.abs(predict_phen_32_logistic - test_phenotype).sum()/test_phenotype.shape[0]\n",
    "print('% error for 32 layer logistic activation  w/ 200 iterations: ' + str(error_32_logistic))"
   ]
  },
  {
   "cell_type": "code",
   "execution_count": 152,
   "metadata": {
    "collapsed": false,
    "scrolled": false
   },
   "outputs": [
    {
     "name": "stdout",
     "output_type": "stream",
     "text": [
      "% error for 1 layer RELU w/ 10000 iterations: 72\n",
      "% error for 2 layer RELU w/ 10000 iterations: 68\n",
      "% error for 16 layer RELU w/ 10000 iterations: 69\n",
      "% error for 32 layer RELU w/ 10000 iterations: 69\n",
      "% error for 1 layer logistic activation  w/ 1000 iterations: 62\n",
      "% error for 2 layer logistic activation  w/ 10000 iterations: 59\n",
      "% error for 16 layer logistic activation  w/ 10000 iterations: 56\n",
      "% error for 32 layer logistic activation  w/ 10000 iterations: 50\n"
     ]
    }
   ],
   "source": [
    "model_1r_layer = neural_network.MLPClassifier(hidden_layer_sizes=l_1, activation='relu', max_iter=10000, random_state=1)\n",
    "model_1_relu = model_1r_layer.fit(exp_train, train_phenotype)\n",
    "predict_phen_1_relu = model_1_relu.predict(exp_test)\n",
    "error_1_relu = np.abs(predict_phen_1_relu - test_phenotype).sum() / test_phenotype.shape[0]\n",
    "print('% error for 1 layer RELU w/ 10000 iterations: ' + str(error_1_relu))\n",
    "\n",
    "model_2r_layer = neural_network.MLPClassifier(hidden_layer_sizes=l_2, activation='relu', max_iter=10000, random_state=1)\n",
    "model_2_relu = model_2r_layer.fit(exp_train, train_phenotype)\n",
    "predict_phen_2_relu = model_2_relu.predict(exp_test)\n",
    "error_2_relu = np.abs(predict_phen_2_relu - test_phenotype).sum() / test_phenotype.shape[0]\n",
    "print('% error for 2 layer RELU w/ 10000 iterations: ' + str(error_2_relu))\n",
    "\n",
    "model_16r_layer = neural_network.MLPClassifier(hidden_layer_sizes=l_16, activation='relu', max_iter=10000, random_state=1)\n",
    "model_16_relu = model_16r_layer.fit(exp_train, train_phenotype)\n",
    "predict_phen_16_relu = model_16_relu.predict(exp_test)\n",
    "error_16_relu = np.sum(np.abs(predict_phen_16_relu - test_phenotype)) / test_phenotype.shape[0]\n",
    "print('% error for 16 layer RELU w/ 10000 iterations: ' + str(error_16_relu))\n",
    "\n",
    "model_32r_layer = neural_network.MLPClassifier(hidden_layer_sizes=l_32, activation='relu', max_iter=10000, random_state=1)\n",
    "model_32_relu = model_32r_layer.fit(exp_train, train_phenotype)\n",
    "predict_phen_32_relu = model_32_relu.predict(exp_test)\n",
    "error_32_relu = np.sum(np.abs(predict_phen_32_relu - test_phenotype)) / test_phenotype.shape[0]\n",
    "print('% error for 32 layer RELU w/ 10000 iterations: ' + str(error_32_relu))\n",
    "\n",
    "model_1l_layer = neural_network.MLPClassifier(hidden_layer_sizes=l_1, activation='logistic', max_iter=10000, random_state=1)\n",
    "model_1_logistic = model_1l_layer.fit(exp_train, train_phenotype)\n",
    "predict_phen_1_logistic = model_1_logistic.predict(exp_test)\n",
    "error_1_logistic = np.abs(predict_phen_1_logistic - test_phenotype).sum()/test_phenotype.shape[0]\n",
    "print('% error for 1 layer logistic activation  w/ 1000 iterations: ' + str(error_1_logistic))\n",
    "\n",
    "model_2l_layer = neural_network.MLPClassifier(hidden_layer_sizes=l_2, activation='logistic', max_iter=10000, random_state=1)\n",
    "model_2_logistic = model_2l_layer.fit(exp_train, train_phenotype)\n",
    "predict_phen_2_logistic = model_2_logistic.predict(exp_test)\n",
    "error_2_logistic = np.abs(predict_phen_2_logistic - test_phenotype).sum()/test_phenotype.shape[0]\n",
    "print('% error for 2 layer logistic activation  w/ 10000 iterations: ' + str(error_2_logistic))\n",
    "\n",
    "model_16l_layer = neural_network.MLPClassifier(hidden_layer_sizes=l_16, activation='logistic', max_iter=10000, random_state=1)\n",
    "model_16_logistic = model_16l_layer.fit(exp_train, train_phenotype)\n",
    "predict_phen_16_logistic = model_16_logistic.predict(exp_test)\n",
    "error_16_logistic = np.abs(predict_phen_16_logistic - test_phenotype).sum()/test_phenotype.shape[0]\n",
    "print('% error for 16 layer logistic activation  w/ 10000 iterations: ' + str(error_16_logistic))\n",
    "\n",
    "model_32l_layer = neural_network.MLPClassifier(hidden_layer_sizes=l_32, activation='logistic', max_iter=10000, random_state=1)\n",
    "model_32_logistic = model_32l_layer.fit(exp_train, train_phenotype)\n",
    "predict_phen_32_logistic = model_32_logistic.predict(exp_test)\n",
    "error_32_logistic = np.abs(predict_phen_32_logistic - test_phenotype).sum()/test_phenotype.shape[0]\n",
    "print('% error for 32 layer logistic activation  w/ 10000 iterations: ' + str(error_32_logistic))"
   ]
  },
  {
   "cell_type": "code",
   "execution_count": null,
   "metadata": {
    "collapsed": true
   },
   "outputs": [],
   "source": []
  }
 ],
 "metadata": {
  "kernelspec": {
   "display_name": "Python 2",
   "language": "python",
   "name": "python2"
  },
  "language_info": {
   "codemirror_mode": {
    "name": "ipython",
    "version": 2
   },
   "file_extension": ".py",
   "mimetype": "text/x-python",
   "name": "python",
   "nbconvert_exporter": "python",
   "pygments_lexer": "ipython2",
   "version": "2.7.13"
  }
 },
 "nbformat": 4,
 "nbformat_minor": 2
}
